{
 "cells": [
  {
   "cell_type": "code",
   "execution_count": 5,
   "metadata": {},
   "outputs": [],
   "source": [
    "import cv2\n",
    "import numpy as np\n",
    "from sklearn import cluster\n",
    "\n",
    "# Initialize a video feed\n",
    "cap = cv2.VideoCapture(1)"
   ]
  },
  {
   "cell_type": "code",
   "execution_count": 3,
   "metadata": {},
   "outputs": [],
   "source": [
    "# Setting up the blob detector\n",
    "params = cv2.SimpleBlobDetector_Params()\n",
    "\n",
    "params.filterByInertia\n",
    "params.minInertiaRatio = 0.6\n",
    "\n",
    "detector = cv2.SimpleBlobDetector_create(params)\n",
    "\n",
    "def get_blobs(frame):\n",
    "    frame_blurred = cv2.medianBlur(frame, 7)\n",
    "    frame_gray = cv2.cvtColor(frame_blurred, cv2.COLOR_BGR2GRAY)\n",
    "    blobs = detector.detect(frame_gray)\n",
    "\n",
    "    return blobs"
   ]
  },
  {
   "cell_type": "code",
   "execution_count": 4,
   "metadata": {},
   "outputs": [],
   "source": [
    "def get_dice_from_blobs(blobs):\n",
    "    # Get centroids of all blobs\n",
    "    X = []\n",
    "    for b in blobs:\n",
    "        pos = b.pt\n",
    "\n",
    "        if pos != None:\n",
    "            X.append(pos)\n",
    "\n",
    "    X = np.asarray(X)\n",
    "\n",
    "    if len(X) > 0:\n",
    "        # Important to set min_sample to 0, as a dice may only have one dot\n",
    "        clustering = cluster.DBSCAN(eps=40, min_samples=1).fit(X)\n",
    "\n",
    "        # Find the largest label assigned + 1, that's the number of dice found\n",
    "        num_dice = max(clustering.labels_) + 1\n",
    "\n",
    "        dice = []\n",
    "\n",
    "        # Calculate centroid of each dice, the average between all a dice's dots\n",
    "        for i in range(num_dice):\n",
    "            X_dice = X[clustering.labels_ == i]\n",
    "\n",
    "            centroid_dice = np.mean(X_dice, axis=0)\n",
    "\n",
    "            dice.append([len(X_dice), *centroid_dice])\n",
    "\n",
    "        return dice\n",
    "\n",
    "    else:\n",
    "        return []"
   ]
  },
  {
   "cell_type": "code",
   "execution_count": 6,
   "metadata": {},
   "outputs": [],
   "source": [
    "def overlay_info(frame, dice, blobs):\n",
    "    # Overlay blobs\n",
    "    for b in blobs:\n",
    "        pos = b.pt\n",
    "        r = b.size / 2\n",
    "\n",
    "        cv2.circle(frame, (int(pos[0]), int(pos[1])),\n",
    "                   int(r), (255, 0, 0), 2)\n",
    "\n",
    "    # Overlay dice number\n",
    "    for d in dice:\n",
    "        # Get textsize for text centering\n",
    "        textsize = cv2.getTextSize(\n",
    "            str(d[0]), cv2.FONT_HERSHEY_PLAIN, 3, 2)[0]\n",
    "\n",
    "        cv2.putText(frame, str(d[0]),\n",
    "                    (int(d[1] - textsize[0] / 2),\n",
    "                     int(d[2] + textsize[1] / 2)),\n",
    "                    cv2.FONT_HERSHEY_PLAIN, 3, (0, 255, 0), 2)"
   ]
  },
  {
   "cell_type": "code",
   "execution_count": 9,
   "metadata": {},
   "outputs": [],
   "source": [
    "import matplotlib.pyplot as plt"
   ]
  },
  {
   "cell_type": "code",
   "execution_count": 11,
   "metadata": {},
   "outputs": [
    {
     "ename": "AttributeError",
     "evalue": "'NoneType' object has no attribute 'astype'",
     "output_type": "error",
     "traceback": [
      "\u001b[1;31m---------------------------------------------------------------------------\u001b[0m",
      "\u001b[1;31mAttributeError\u001b[0m                            Traceback (most recent call last)",
      "Cell \u001b[1;32mIn[11], line 13\u001b[0m\n\u001b[0;32m      9\u001b[0m out_frame \u001b[38;5;241m=\u001b[39m overlay_info(frame, dice, blobs)\n\u001b[0;32m     11\u001b[0m \u001b[38;5;66;03m# cv2.imshow(\"frame\", frame)\u001b[39;00m\n\u001b[0;32m     12\u001b[0m \u001b[38;5;66;03m# plt.imshow(out_frame)\u001b[39;00m\n\u001b[1;32m---> 13\u001b[0m plt\u001b[38;5;241m.\u001b[39mimshow(\u001b[43mout_frame\u001b[49m\u001b[38;5;241;43m.\u001b[39;49m\u001b[43mastype\u001b[49m(\u001b[38;5;124m'\u001b[39m\u001b[38;5;124muint8\u001b[39m\u001b[38;5;124m'\u001b[39m))\n\u001b[0;32m     15\u001b[0m \u001b[38;5;66;03m# res = cv2.waitKey(1)\u001b[39;00m\n\u001b[0;32m     16\u001b[0m \n\u001b[0;32m     17\u001b[0m     \u001b[38;5;66;03m# Stop if the user presses \"q\"\u001b[39;00m\n\u001b[1;32m   (...)\u001b[0m\n\u001b[0;32m     21\u001b[0m \u001b[38;5;66;03m# When everything is done, release the capture\u001b[39;00m\n\u001b[0;32m     22\u001b[0m \u001b[38;5;66;03m# cap.release()\u001b[39;00m\n\u001b[0;32m     23\u001b[0m cv2\u001b[38;5;241m.\u001b[39mdestroyAllWindows()\n",
      "\u001b[1;31mAttributeError\u001b[0m: 'NoneType' object has no attribute 'astype'"
     ]
    }
   ],
   "source": [
    "# while(True):\n",
    "    # Grab the latest image from the video feed\n",
    "# ret, frame = cap.read()\n",
    "frame = cv2.imread('../circle_0.jpg')\n",
    "\n",
    "# We'll define these later\n",
    "blobs = get_blobs(frame)\n",
    "dice = get_dice_from_blobs(blobs)\n",
    "out_frame = overlay_info(frame, dice, blobs)\n",
    "\n",
    "# cv2.imshow(\"frame\", frame)\n",
    "# plt.imshow(out_frame)\n",
    "plt.imshow(out_frame.astype('uint8'))\n",
    "\n",
    "# res = cv2.waitKey(1)\n",
    "\n",
    "    # Stop if the user presses \"q\"\n",
    "    # if res & 0xFF == ord('q'):\n",
    "    #     break\n",
    "\n",
    "# When everything is done, release the capture\n",
    "# cap.release()\n",
    "cv2.destroyAllWindows()"
   ]
  }
 ],
 "metadata": {
  "kernelspec": {
   "display_name": "Python 3",
   "language": "python",
   "name": "python3"
  },
  "language_info": {
   "codemirror_mode": {
    "name": "ipython",
    "version": 3
   },
   "file_extension": ".py",
   "mimetype": "text/x-python",
   "name": "python",
   "nbconvert_exporter": "python",
   "pygments_lexer": "ipython3",
   "version": "3.11.4"
  }
 },
 "nbformat": 4,
 "nbformat_minor": 2
}
